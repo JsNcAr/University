{
 "cells": [
  {
   "cell_type": "markdown",
   "metadata": {},
   "source": [
    "# <font color='DodgerBlue'>Datos laboratorio 4 de fisica moderna</font> "
   ]
  },
  {
   "cell_type": "code",
   "execution_count": 5,
   "metadata": {},
   "outputs": [],
   "source": [
    "import pandas as pd\n",
    "import numpy as np"
   ]
  },
  {
   "cell_type": "code",
   "execution_count": 11,
   "metadata": {
    "scrolled": true
   },
   "outputs": [
    {
     "name": "stdout",
     "output_type": "stream",
     "text": [
      "   I   V   U  O\n",
      "0  1   2   3  4\n",
      "1  1  54  67  8\n",
      "0    0.0\n",
      "1    0.0\n",
      "Name: I, dtype: float64\n"
     ]
    }
   ],
   "source": [
    "y = pd.read_csv('amarillo.csv') \n",
    "b = pd.read_csv('azul.csv')\n",
    "r = pd.read_csv('rojo.csv')\n",
    "g = pd.read_csv('verde.csv')"
   ]
  }
 ],
 "metadata": {
  "kernelspec": {
   "display_name": "Python 3",
   "language": "python",
   "name": "python3"
  },
  "language_info": {
   "codemirror_mode": {
    "name": "ipython",
    "version": 3
   },
   "file_extension": ".py",
   "mimetype": "text/x-python",
   "name": "python",
   "nbconvert_exporter": "python",
   "pygments_lexer": "ipython3",
   "version": "3.7.4"
  }
 },
 "nbformat": 4,
 "nbformat_minor": 2
}
