{
 "cells": [
  {
   "cell_type": "markdown",
   "metadata": {},
   "source": [
    "# <font color='DodgerBlue'>Doble rendija</font> "
   ]
  },
  {
   "cell_type": "code",
   "execution_count": 1,
   "metadata": {},
   "outputs": [],
   "source": [
    "using CSV\n",
    "using DataFrames\n",
    "using PyCall\n",
    "using LsqFit"
   ]
  },
  {
   "cell_type": "code",
   "execution_count": 2,
   "metadata": {},
   "outputs": [
    {
     "data": {
      "text/plain": [
       "PyObject <module 'matplotlib.pyplot' from '/home/ramsus/anaconda3/lib/python3.7/site-packages/matplotlib/pyplot.py'>"
      ]
     },
     "execution_count": 2,
     "metadata": {},
     "output_type": "execute_result"
    }
   ],
   "source": [
    "plt = pyimport(\"matplotlib.pyplot\")"
   ]
  },
  {
   "cell_type": "code",
   "execution_count": 3,
   "metadata": {},
   "outputs": [],
   "source": [
    "doble = CSV.read(\"DobleRendija.csv\", normalizenames = true)\n",
    "izq = CSV.read(\"izquierda.csv\", normalizenames = true)\n",
    "der = CSV.read(\"derecha.csv\", normalizenames = true);"
   ]
  },
  {
   "cell_type": "code",
   "execution_count": 4,
   "metadata": {},
   "outputs": [],
   "source": [
    "center = doble.X_mm_[findall(doble.V_mV_ .== maximum(doble.V_mV_))];"
   ]
  },
  {
   "cell_type": "code",
   "execution_count": 5,
   "metadata": {},
   "outputs": [],
   "source": [
    "I_0 = maximum(doble.V_mV_)\n",
    "L = 503\n",
    "\n",
    "x_d = atan.( (doble.X_mm_.-center) /L)\n",
    "x_l = atan.( (izq.X_mm_.-center) /L)\n",
    "x_r = atan.( (der.X_mm_.-center) /L);"
   ]
  },
  {
   "cell_type": "code",
   "execution_count": 6,
   "metadata": {},
   "outputs": [],
   "source": [
    "plt.scatter(x_d, doble.V_mV_)\n",
    "plt.show()\n",
    "\n",
    "plt.scatter(x_l, izq.V_mV_)\n",
    "plt.show()\n",
    "\n",
    "plt.scatter(x_r, der.V_mV_)\n",
    "plt.show()"
   ]
  },
  {
   "cell_type": "markdown",
   "metadata": {},
   "source": [
    "## Doble"
   ]
  },
  {
   "cell_type": "code",
   "execution_count": 7,
   "metadata": {},
   "outputs": [],
   "source": [
    "plt.plot(x_d, doble.V_mV_)\n",
    "plt.show()"
   ]
  },
  {
   "cell_type": "code",
   "execution_count": 22,
   "metadata": {},
   "outputs": [
    {
     "data": {
      "text/plain": [
       "lum (generic function with 1 method)"
      ]
     },
     "execution_count": 22,
     "metadata": {},
     "output_type": "execute_result"
    }
   ],
   "source": [
    "function lum(the, p)\n",
    "    d1 = (pi*p[1]*(sin.(the)/p[2]))\n",
    "    d2 = (pi*p[3]*sin.(the)/p[2])\n",
    "    return (99.82^2)*( (sin.(d1)/d1).^2 )*( cos.(d2).^2 )\n",
    "end"
   ]
  },
  {
   "cell_type": "code",
   "execution_count": 27,
   "metadata": {},
   "outputs": [],
   "source": [
    "fit = curve_fit(lum, x_d, doble.V_mV_, [0.5, 0.05, 1]);"
   ]
  },
  {
   "cell_type": "code",
   "execution_count": 28,
   "metadata": {},
   "outputs": [],
   "source": [
    "coef(fit)\n",
    "plt.plot(x_d, lum(x_d, coef(fit)))\n",
    "plt.scatter(x_d, doble.V_mV_)\n",
    "plt.show()"
   ]
  },
  {
   "cell_type": "markdown",
   "metadata": {},
   "source": [
    "y = convert(Array, doble.V_mV_)\n",
    "A =DataFrame( Column1 = x_d,  Column2 = y)\n",
    "CSV.write(\"FileName.csv\",  DataFrame(A), writeheader=false)"
   ]
  },
  {
   "cell_type": "markdown",
   "metadata": {},
   "source": [
    "findall(doble.V_mV_ .== maximum(doble.V_mV_))\n",
    "doble.X_mm_[50]"
   ]
  }
 ],
 "metadata": {
  "@webio": {
   "lastCommId": null,
   "lastKernelId": null
  },
  "kernelspec": {
   "display_name": "Julia nodeps 1.4.0",
   "language": "julia",
   "name": "julia-nodeps-1.4"
  },
  "language_info": {
   "file_extension": ".jl",
   "mimetype": "application/julia",
   "name": "julia",
   "version": "1.4.0"
  }
 },
 "nbformat": 4,
 "nbformat_minor": 2
}
