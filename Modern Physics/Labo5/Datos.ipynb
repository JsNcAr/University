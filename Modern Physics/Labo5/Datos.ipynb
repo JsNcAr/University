{
 "cells": [
  {
   "cell_type": "code",
   "execution_count": 6,
   "metadata": {},
   "outputs": [],
   "source": [
    "import pandas as pd "
   ]
  },
  {
   "cell_type": "code",
   "execution_count": 7,
   "metadata": {},
   "outputs": [
    {
     "name": "stdout",
     "output_type": "stream",
     "text": [
      "60\n"
     ]
    }
   ],
   "source": [
    "deu = pd.read_csv('deuprueba.csv', index_col= 'px')\n",
    "h = pd.read_csv('hidro.csv', index_col= 'px')\n",
    "ne = pd.read_csv('ne.csv', index_col = 'px')\n",
    "na = pd.read_csv('na.csv', index_col = 'px')\n",
    "hg = pd.read_csv('hg.csv', index_col = 'px')\n",
    "cd = 1167 \n",
    "ch = 1227 \n",
    "print(ch-cd)"
   ]
  }
 ],
 "metadata": {
  "kernelspec": {
   "display_name": "Python 3",
   "language": "python",
   "name": "python3"
  },
  "language_info": {
   "codemirror_mode": {
    "name": "ipython",
    "version": 3
   },
   "file_extension": ".py",
   "mimetype": "text/x-python",
   "name": "python",
   "nbconvert_exporter": "python",
   "pygments_lexer": "ipython3",
   "version": "3.7.4"
  }
 },
 "nbformat": 4,
 "nbformat_minor": 2
}
