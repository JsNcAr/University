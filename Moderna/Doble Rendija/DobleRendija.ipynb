{
 "cells": [
  {
   "cell_type": "markdown",
   "metadata": {},
   "source": [
    "# <font color='DodgerBlue'>Doble rendija</font> "
   ]
  },
  {
   "cell_type": "code",
   "execution_count": 1,
   "metadata": {},
   "outputs": [],
   "source": [
    "using CSV\n",
    "using DataFrames\n",
    "using PyCall\n",
    "using LsqFit"
   ]
  },
  {
   "cell_type": "code",
   "execution_count": 2,
   "metadata": {},
   "outputs": [
    {
     "data": {
      "text/plain": [
       "PyObject <module 'matplotlib.pyplot' from '/home/ramsus/anaconda3/lib/python3.7/site-packages/matplotlib/pyplot.py'>"
      ]
     },
     "execution_count": 2,
     "metadata": {},
     "output_type": "execute_result"
    }
   ],
   "source": [
    "plt = pyimport(\"matplotlib.pyplot\")"
   ]
  },
  {
   "cell_type": "code",
   "execution_count": 3,
   "metadata": {},
   "outputs": [],
   "source": [
    "doble = CSV.read(\"DobleRendija.csv\", normalizenames = true)\n",
    "izq = CSV.read(\"izquierda.csv\", normalizenames = true)\n",
    "der = CSV.read(\"derecha.csv\", normalizenames = true);"
   ]
  },
  {
   "cell_type": "code",
   "execution_count": 4,
   "metadata": {},
   "outputs": [
    {
     "data": {
      "text/html": [
       "<table class=\"data-frame\"><thead><tr><th></th><th>X_mm_</th><th>V_mV_</th></tr><tr><th></th><th>Float64</th><th>Float64</th></tr></thead><tbody><p>93 rows × 2 columns</p><tr><th>1</th><td>0.0</td><td>8.94</td></tr><tr><th>2</th><td>0.1</td><td>8.75</td></tr><tr><th>3</th><td>0.2</td><td>8.75</td></tr><tr><th>4</th><td>0.3</td><td>8.81</td></tr><tr><th>5</th><td>0.4</td><td>8.97</td></tr><tr><th>6</th><td>0.5</td><td>8.96</td></tr><tr><th>7</th><td>0.6</td><td>8.88</td></tr><tr><th>8</th><td>0.7</td><td>8.92</td></tr><tr><th>9</th><td>0.8</td><td>8.9</td></tr><tr><th>10</th><td>0.9</td><td>8.87</td></tr><tr><th>11</th><td>1.0</td><td>9.0</td></tr><tr><th>12</th><td>1.1</td><td>9.09</td></tr><tr><th>13</th><td>1.2</td><td>9.12</td></tr><tr><th>14</th><td>1.3</td><td>9.12</td></tr><tr><th>15</th><td>1.4</td><td>9.19</td></tr><tr><th>16</th><td>1.5</td><td>9.19</td></tr><tr><th>17</th><td>1.6</td><td>9.17</td></tr><tr><th>18</th><td>1.7</td><td>9.31</td></tr><tr><th>19</th><td>1.8</td><td>9.78</td></tr><tr><th>20</th><td>1.9</td><td>12.07</td></tr><tr><th>21</th><td>2.0</td><td>15.51</td></tr><tr><th>22</th><td>2.1</td><td>16.02</td></tr><tr><th>23</th><td>2.2</td><td>12.96</td></tr><tr><th>24</th><td>2.3</td><td>9.08</td></tr><tr><th>25</th><td>2.4</td><td>9.68</td></tr><tr><th>26</th><td>2.5</td><td>13.75</td></tr><tr><th>27</th><td>2.6</td><td>25.97</td></tr><tr><th>28</th><td>2.7</td><td>37.68</td></tr><tr><th>29</th><td>2.8</td><td>40.59</td></tr><tr><th>30</th><td>2.9</td><td>31.38</td></tr><tr><th>&vellip;</th><td>&vellip;</td><td>&vellip;</td></tr></tbody></table>"
      ],
      "text/latex": [
       "\\begin{tabular}{r|cc}\n",
       "\t& X\\_mm\\_ & V\\_mV\\_\\\\\n",
       "\t\\hline\n",
       "\t& Float64 & Float64\\\\\n",
       "\t\\hline\n",
       "\t1 & 0.0 & 8.94 \\\\\n",
       "\t2 & 0.1 & 8.75 \\\\\n",
       "\t3 & 0.2 & 8.75 \\\\\n",
       "\t4 & 0.3 & 8.81 \\\\\n",
       "\t5 & 0.4 & 8.97 \\\\\n",
       "\t6 & 0.5 & 8.96 \\\\\n",
       "\t7 & 0.6 & 8.88 \\\\\n",
       "\t8 & 0.7 & 8.92 \\\\\n",
       "\t9 & 0.8 & 8.9 \\\\\n",
       "\t10 & 0.9 & 8.87 \\\\\n",
       "\t11 & 1.0 & 9.0 \\\\\n",
       "\t12 & 1.1 & 9.09 \\\\\n",
       "\t13 & 1.2 & 9.12 \\\\\n",
       "\t14 & 1.3 & 9.12 \\\\\n",
       "\t15 & 1.4 & 9.19 \\\\\n",
       "\t16 & 1.5 & 9.19 \\\\\n",
       "\t17 & 1.6 & 9.17 \\\\\n",
       "\t18 & 1.7 & 9.31 \\\\\n",
       "\t19 & 1.8 & 9.78 \\\\\n",
       "\t20 & 1.9 & 12.07 \\\\\n",
       "\t21 & 2.0 & 15.51 \\\\\n",
       "\t22 & 2.1 & 16.02 \\\\\n",
       "\t23 & 2.2 & 12.96 \\\\\n",
       "\t24 & 2.3 & 9.08 \\\\\n",
       "\t25 & 2.4 & 9.68 \\\\\n",
       "\t26 & 2.5 & 13.75 \\\\\n",
       "\t27 & 2.6 & 25.97 \\\\\n",
       "\t28 & 2.7 & 37.68 \\\\\n",
       "\t29 & 2.8 & 40.59 \\\\\n",
       "\t30 & 2.9 & 31.38 \\\\\n",
       "\t$\\dots$ & $\\dots$ & $\\dots$ \\\\\n",
       "\\end{tabular}\n"
      ],
      "text/plain": [
       "93×2 DataFrame\n",
       "│ Row │ X_mm_   │ V_mV_   │\n",
       "│     │ \u001b[90mFloat64\u001b[39m │ \u001b[90mFloat64\u001b[39m │\n",
       "├─────┼─────────┼─────────┤\n",
       "│ 1   │ 0.0     │ 8.94    │\n",
       "│ 2   │ 0.1     │ 8.75    │\n",
       "│ 3   │ 0.2     │ 8.75    │\n",
       "│ 4   │ 0.3     │ 8.81    │\n",
       "│ 5   │ 0.4     │ 8.97    │\n",
       "│ 6   │ 0.5     │ 8.96    │\n",
       "│ 7   │ 0.6     │ 8.88    │\n",
       "│ 8   │ 0.7     │ 8.92    │\n",
       "│ 9   │ 0.8     │ 8.9     │\n",
       "│ 10  │ 0.9     │ 8.87    │\n",
       "⋮\n",
       "│ 83  │ 8.2     │ 9.1     │\n",
       "│ 84  │ 8.3     │ 9.11    │\n",
       "│ 85  │ 8.4     │ 9.12    │\n",
       "│ 86  │ 8.5     │ 9.07    │\n",
       "│ 87  │ 8.6     │ 9.09    │\n",
       "│ 88  │ 8.7     │ 9.17    │\n",
       "│ 89  │ 8.8     │ 9.0     │\n",
       "│ 90  │ 8.9     │ 9.04    │\n",
       "│ 91  │ 9.0     │ 9.09    │\n",
       "│ 92  │ 9.1     │ 9.22    │\n",
       "│ 93  │ 9.2     │ 9.61    │"
      ]
     },
     "execution_count": 4,
     "metadata": {},
     "output_type": "execute_result"
    }
   ],
   "source": [
    "doble"
   ]
  },
  {
   "cell_type": "code",
   "execution_count": 4,
   "metadata": {},
   "outputs": [],
   "source": [
    "center = doble.X_mm_[findall(doble.V_mV_ .== maximum(doble.V_mV_))];"
   ]
  },
  {
   "cell_type": "code",
   "execution_count": 5,
   "metadata": {},
   "outputs": [],
   "source": [
    "I_0 = maximum(doble.V_mV_)\n",
    "L = 503\n",
    "\n",
    "x_d = atan.( (doble.X_mm_.-center) /L)\n",
    "x_l = atan.( (izq.X_mm_.-center) /L)\n",
    "x_r = atan.( (der.X_mm_.-center) /L);"
   ]
  },
  {
   "cell_type": "code",
   "execution_count": 21,
   "metadata": {},
   "outputs": [
    {
     "data": {
      "text/plain": [
       "25.28"
      ]
     },
     "execution_count": 21,
     "metadata": {},
     "output_type": "execute_result"
    }
   ],
   "source": [
    "plt.scatter(x_r, der.V_mV_)\n",
    "plt.show()\n",
    "maximum(izq.V_mV_)"
   ]
  },
  {
   "cell_type": "markdown",
   "metadata": {},
   "source": [
    "## Izquierda"
   ]
  },
  {
   "cell_type": "code",
   "execution_count": 6,
   "metadata": {},
   "outputs": [
    {
     "data": {
      "text/plain": [
       "simp (generic function with 1 method)"
      ]
     },
     "execution_count": 6,
     "metadata": {},
     "output_type": "execute_result"
    }
   ],
   "source": [
    "function simp(the,p)\n",
    "    d2 =  (pi*p[1]*sin.(the)/p[2])\n",
    "    return 25.28*(cos.(d2).^2)\n",
    "end"
   ]
  },
  {
   "cell_type": "code",
   "execution_count": 7,
   "metadata": {},
   "outputs": [],
   "source": [
    "fit = curve_fit(simp, x_l, izq.V_mV_, [0.5, 0.05]);"
   ]
  },
  {
   "cell_type": "code",
   "execution_count": null,
   "metadata": {},
   "outputs": [],
   "source": [
    "plt.scatter(x_l, izq.V_mV_)\n",
    "plt.plot(x_l, simp(x_l, coef(fit)))\n",
    "plt.show()"
   ]
  },
  {
   "cell_type": "markdown",
   "metadata": {},
   "source": [
    "## Doble"
   ]
  },
  {
   "cell_type": "code",
   "execution_count": 7,
   "metadata": {},
   "outputs": [],
   "source": [
    "plt.plot(x_d, doble.V_mV_)\n",
    "plt.show()"
   ]
  },
  {
   "cell_type": "code",
   "execution_count": 8,
   "metadata": {},
   "outputs": [
    {
     "data": {
      "text/plain": [
       "lum (generic function with 1 method)"
      ]
     },
     "execution_count": 8,
     "metadata": {},
     "output_type": "execute_result"
    }
   ],
   "source": [
    "function lum(the, p)\n",
    "    d1 = (pi*p[1]*(sin.(the)/p[2]))\n",
    "    d2 = (pi*p[3]*sin.(the)/p[2])\n",
    "    return (99.82^2)*( (sin.(d1)/d1).^2 )*( cos.(d2).^2 )\n",
    "end"
   ]
  },
  {
   "cell_type": "code",
   "execution_count": 9,
   "metadata": {},
   "outputs": [],
   "source": [
    "fit = curve_fit(lum, x_d, doble.V_mV_, [0.5, 0.05, 1]);"
   ]
  },
  {
   "cell_type": "code",
   "execution_count": 10,
   "metadata": {},
   "outputs": [],
   "source": [
    "coef(fit)\n",
    "plt.plot(x_d, lum(x_d, coef(fit)))\n",
    "plt.scatter(x_d, doble.V_mV_)\n",
    "plt.show()"
   ]
  },
  {
   "cell_type": "markdown",
   "metadata": {},
   "source": [
    "y = convert(Array, doble.V_mV_)\n",
    "A =DataFrame( Column1 = x_d,  Column2 = y)\n",
    "CSV.write(\"FileName.csv\",  DataFrame(A), writeheader=false)"
   ]
  },
  {
   "cell_type": "markdown",
   "metadata": {},
   "source": [
    "findall(doble.V_mV_ .== maximum(doble.V_mV_))\n",
    "doble.X_mm_[50]"
   ]
  }
 ],
 "metadata": {
  "@webio": {
   "lastCommId": null,
   "lastKernelId": null
  },
  "kernelspec": {
   "display_name": "Julia nodeps 1.4.0",
   "language": "julia",
   "name": "julia-nodeps-1.4"
  },
  "language_info": {
   "file_extension": ".jl",
   "mimetype": "application/julia",
   "name": "julia",
   "version": "1.4.0"
  }
 },
 "nbformat": 4,
 "nbformat_minor": 2
}
