{
 "cells": [
  {
   "cell_type": "code",
   "execution_count": 1,
   "metadata": {},
   "outputs": [],
   "source": [
    "import numpy as np"
   ]
  },
  {
   "cell_type": "code",
   "execution_count": 2,
   "metadata": {},
   "outputs": [],
   "source": [
    "distancia = 93.6\n",
    "centro = 50.5\n",
    "H = np.array([74.4, 81.9, 86.3]) -centro\n",
    "Hg = np.array([71.5, 74.7, 79.3, 81.7 ]) -centro\n",
    "Ne = np.array([82.4, 83.4, 85.4]) -centro\n",
    "Kr = np.array([73.5, 80.4, 82.2]) - centro"
   ]
  },
  {
   "cell_type": "markdown",
   "metadata": {},
   "source": [
    "Longitudes de onda"
   ]
  },
  {
   "cell_type": "code",
   "execution_count": 3,
   "metadata": {},
   "outputs": [],
   "source": [
    "col ={ 'purpura':410 ,'azul': 450, 'verde': 550, 'amarillo':625, 'naranja': 640, 'rojo': 700}\n",
    "Hl = np.array([col['azul'], col['verde'], col['rojo']])\n",
    "Hgl = np.array([ col['purpura'], col['azul'], col['verde'], col['amarillo'] ])\n",
    "Nel = np.array([  col['amarillo'], col['naranja'], col['rojo'] ])\n",
    "Kr = np.array([ col['azul'], col['verde'], col['naranja'] ])"
   ]
  }
 ],
 "metadata": {
  "kernelspec": {
   "display_name": "Python 3",
   "language": "python",
   "name": "python3"
  },
  "language_info": {
   "codemirror_mode": {
    "name": "ipython",
    "version": 3
   },
   "file_extension": ".py",
   "mimetype": "text/x-python",
   "name": "python",
   "nbconvert_exporter": "python",
   "pygments_lexer": "ipython3",
   "version": "3.7.4"
  }
 },
 "nbformat": 4,
 "nbformat_minor": 2
}
