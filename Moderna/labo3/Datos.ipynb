{
 "cells": [
  {
   "cell_type": "code",
   "execution_count": 1,
   "metadata": {},
   "outputs": [],
   "source": [
    "import numpy as np"
   ]
  },
  {
   "cell_type": "code",
   "execution_count": 2,
   "metadata": {},
   "outputs": [],
   "source": [
    "distancia = 93.6\n",
    "centro = 50.5\n",
    "H = np.array([74.4, 81.9, 86.3]) -centro\n",
    "Hg = np.array([71.5, 74.7, 79.3, 81.7 ]) -centro\n",
    "Ne = np.array([82.4, 83.4, 85.4]) -centro\n",
    "Kr = np.array([73.5, 80.4, 82.2]) - centro"
   ]
  },
  {
   "cell_type": "markdown",
   "metadata": {},
   "source": [
    "Longitudes de onda"
   ]
  },
  {
   "cell_type": "code",
   "execution_count": 3,
   "metadata": {},
   "outputs": [],
   "source": [
    "Hl = np.array([486.3, 530, 656.5])\n",
    "Hgl = np.array([ 435.8, 502.5, 546.1, 578 ])\n",
    "Nel = np.array([  587.2, 607.4, 630 ])\n",
    "Krl = np.array([ 400, 560, 590 ])"
   ]
  },
  {
   "cell_type": "markdown",
   "metadata": {},
   "source": [
    "Teoricos"
   ]
  },
  {
   "cell_type": "code",
   "execution_count": 16,
   "metadata": {},
   "outputs": [
    {
     "name": "stdout",
     "output_type": "stream",
     "text": [
      "[-0.09380246  0.37520983  0.33500877  0.31658329  0.30642136  0.30016786]\n"
     ]
    }
   ],
   "source": [
    "R = (1/1000000000)*(1.09678*10**7)\n",
    "def balmer (R, n):\n",
    "    return (1/((36**2)*R*( 0.25 - (1/n**2) )) )\n",
    "krt = np.array([balmer(R, 1), balmer(R, 4), balmer(R, 5), balmer(R, 6), balmer(R, 7), balmer(R, 8) ])\n",
    "print (krt)"
   ]
  }
 ],
 "metadata": {
  "kernelspec": {
   "display_name": "Python 3",
   "language": "python",
   "name": "python3"
  },
  "language_info": {
   "codemirror_mode": {
    "name": "ipython",
    "version": 3
   },
   "file_extension": ".py",
   "mimetype": "text/x-python",
   "name": "python",
   "nbconvert_exporter": "python",
   "pygments_lexer": "ipython3",
   "version": "3.7.4"
  }
 },
 "nbformat": 4,
 "nbformat_minor": 2
}
