{
 "cells": [
  {
   "cell_type": "code",
   "execution_count": 1,
   "metadata": {},
   "outputs": [],
   "source": [
    "import numpy as np\n",
    "import matplotlib.pyplot as plt\n",
    "import seaborn as sns\n",
    "from scipy.optimize import curve_fit\n",
    "import pandas as pd"
   ]
  },
  {
   "cell_type": "code",
   "execution_count": 2,
   "metadata": {},
   "outputs": [],
   "source": [
    "import sys\n",
    "sys.path.append('/home/ramsus/Programming/NicolasPersonal/University/Herramientas')\n",
    "\n",
    "import MinimosCuadradosOrdinarios as mc\n",
    "import MetodosBasicos as mb\n",
    "import Datos as dt"
   ]
  },
  {
   "cell_type": "code",
   "execution_count": 20,
   "metadata": {},
   "outputs": [],
   "source": [
    "def filtro(lis,lim):\n",
    "    l = []\n",
    "    for var in lis:\n",
    "        if var > lim:\n",
    "            l.append(var)\n",
    "    return l\n",
    "\n",
    "def conversion(px):\n",
    "    return (0.3515*px)/1030"
   ]
  },
  {
   "cell_type": "code",
   "execution_count": 21,
   "metadata": {},
   "outputs": [],
   "source": [
    "cd, ch = conversion(dt.cd), conversion(dt.ch)\n",
    "deu, h = dt.deu, dt.h\n",
    "\n",
    "ide = mb.puntosCriticos(0, max(deu.index), deu) \n",
    "d = [conversion(var) for var in ide if int(deu.iloc[var]) > 1500]\n",
    "\n",
    "ih = mb.puntosCriticos(0, max(h.index), h)\n",
    "hh = [conversion(var) for var in ih if int(h.iloc[var]) > 1500]"
   ]
  },
  {
   "cell_type": "code",
   "execution_count": 22,
   "metadata": {},
   "outputs": [
    {
     "name": "stdout",
     "output_type": "stream",
     "text": [
      "0.02184077669902912 0.3975703883495146 0.4194111650485437\n"
     ]
    }
   ],
   "source": [
    "delta = np.abs(cd-ch)\n",
    "print(delta, cd, ch)"
   ]
  },
  {
   "cell_type": "code",
   "execution_count": 19,
   "metadata": {},
   "outputs": [
    {
     "data": {
      "text/plain": [
       "-0.35149999999998727"
      ]
     },
     "execution_count": 19,
     "metadata": {},
     "output_type": "execute_result"
    }
   ],
   "source": [
    "655.9285-656.28"
   ]
  }
 ],
 "metadata": {
  "kernelspec": {
   "display_name": "Python 3",
   "language": "python",
   "name": "python3"
  },
  "language_info": {
   "codemirror_mode": {
    "name": "ipython",
    "version": 3
   },
   "file_extension": ".py",
   "mimetype": "text/x-python",
   "name": "python",
   "nbconvert_exporter": "python",
   "pygments_lexer": "ipython3",
   "version": "3.7.4"
  }
 },
 "nbformat": 4,
 "nbformat_minor": 2
}
