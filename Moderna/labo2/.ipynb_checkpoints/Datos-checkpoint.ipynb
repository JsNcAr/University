{
 "cells": [
  {
   "cell_type": "code",
   "execution_count": 1,
   "metadata": {},
   "outputs": [],
   "source": [
    "import numpy as np"
   ]
  },
  {
   "cell_type": "code",
   "execution_count": 2,
   "metadata": {},
   "outputs": [],
   "source": [
    "E11 = np.array( [0.5, 1, 1.4, 1.74] )\n",
    "E12 = np.array([0.5, 0.9, 1.3, 1.6])\n",
    "E13 = np.array([0.5, 0.8, 1.08, 1.33])\n",
    "E14 = np.array([0.3, 0.4, 0.53, 0.66])\n",
    "E15 = np.array([0.2, 0.32, 0.47, 0.67, 0.87])\n",
    "\n",
    "I4 = np.linspace( 1, 4, num = 4 )\n",
    "I5 = np.linspace( 1, 5, num = 5 )\n",
    "I2 = np.linspace(2,4, num =3)"
   ]
  },
  {
   "cell_type": "code",
   "execution_count": 3,
   "metadata": {},
   "outputs": [],
   "source": [
    "E21 = np.array([0.498, 0.618, 0.718])\n",
    "E22 = np.array([0.45, 0.55, 0.65])\n",
    "E23 = np.array([0.5, 0.7, 0.9])\n",
    "E24 = np.array([0.63, 0.83, 1.04])\n",
    "E25 = np.array([0.87, 1.18, 1.48])\n",
    "E26 = np.array([1.13, 1.45, 1.74])\n",
    "E27 = np.array([0.6, 0.4, 0.4])\n",
    "E28 = np.array([1.25, 1.7, 2.19])\n",
    "E29 = np.array([1.2, 1.65, 2.05])\n",
    "E2d = np.array([2.2, 3.15, 4.05])"
   ]
  }
 ],
 "metadata": {
  "kernelspec": {
   "display_name": "Python 3",
   "language": "python",
   "name": "python3"
  },
  "language_info": {
   "codemirror_mode": {
    "name": "ipython",
    "version": 3
   },
   "file_extension": ".py",
   "mimetype": "text/x-python",
   "name": "python",
   "nbconvert_exporter": "python",
   "pygments_lexer": "ipython3",
   "version": "3.7.4"
  }
 },
 "nbformat": 4,
 "nbformat_minor": 2
}
