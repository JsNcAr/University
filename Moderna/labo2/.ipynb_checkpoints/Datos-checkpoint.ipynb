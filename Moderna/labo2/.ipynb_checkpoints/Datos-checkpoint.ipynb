{
 "cells": [
  {
   "cell_type": "code",
   "execution_count": 1,
   "metadata": {},
   "outputs": [],
   "source": [
    "import numpy as np"
   ]
  },
  {
   "cell_type": "code",
   "execution_count": 4,
   "metadata": {},
   "outputs": [],
   "source": [
    "E11 = np.array( [0.5, 1, 1.4, 1.74] )\n",
    "E12 = np.array([0.5, 0.9, 1.3, 1.6])\n",
    "E13 = np.array([0.5, 0.8, 1.08, 1.33])\n",
    "E14 = np.array([0.3, 0.4, 0.53, 0.66])\n",
    "E15 = np.array([0.2, 0.32, 0.47, 0.67, 0.87])\n",
    "\n",
    "I4 = np.linspace( 1, 4, num = 4 )\n",
    "I5 = np.linspace( 1, 5, num = 5 )"
   ]
  },
  {
   "cell_type": "code",
   "execution_count": 3,
   "metadata": {},
   "outputs": [
    {
     "name": "stdout",
     "output_type": "stream",
     "text": [
      "[1. 2. 3. 4. 5.]\n"
     ]
    }
   ],
   "source": []
  }
 ],
 "metadata": {
  "kernelspec": {
   "display_name": "Python 3",
   "language": "python",
   "name": "python3"
  },
  "language_info": {
   "codemirror_mode": {
    "name": "ipython",
    "version": 3
   },
   "file_extension": ".py",
   "mimetype": "text/x-python",
   "name": "python",
   "nbconvert_exporter": "python",
   "pygments_lexer": "ipython3",
   "version": "3.7.4"
  }
 },
 "nbformat": 4,
 "nbformat_minor": 2
}
