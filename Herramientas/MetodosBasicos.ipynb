{
 "cells": [
  {
   "cell_type": "markdown",
   "metadata": {},
   "source": [
    "# <font color = 'DodgerBlue'> Metodos basicos para el trabajo en fisica computacional </font>"
   ]
  },
  {
   "cell_type": "markdown",
   "metadata": {},
   "source": [
    "## <font color = #585858> Este programa contiene los siguiente metodos basicos para el analisis fisico:\n",
    "\n",
    "-   Cuadratica (x,a,b,c): dados los parametros retorna una funcion cuadratica\n",
    "-   Nombrar (x_label, y_label, title, dimension, p1, p2, axs): da nombres dados por parametro a una grafica\n",
    "-   \n",
    "\n",
    "</font>"
   ]
  },
  {
   "cell_type": "code",
   "execution_count": 1,
   "metadata": {},
   "outputs": [],
   "source": [
    "def Cuadratica(x, a, b, c):\n",
    "   return (a*(x**2))+ b*x + c"
   ]
  },
  {
   "cell_type": "code",
   "execution_count": 2,
   "metadata": {},
   "outputs": [],
   "source": [
    "def Nombrar (x_label, y_label, title, dimension, p1, p2, axs):\n",
    "    if dimension == 1:\n",
    "        \n",
    "        axs[p1].set_xlabel(x_label)\n",
    "        axs[p1].set_ylabel(y_label)\n",
    "        axs[p1].set_title(title)\n",
    "    else:\n",
    "        axs[p1,p2].set_xlabel(x_label)\n",
    "        axs[p1,p2].set_ylabel(y_label)\n",
    "        axs[p1,p2].set_title(title)    "
   ]
  }
 ],
 "metadata": {
  "kernelspec": {
   "display_name": "Python 3",
   "language": "python",
   "name": "python3"
  },
  "language_info": {
   "codemirror_mode": {
    "name": "ipython",
    "version": 3
   },
   "file_extension": ".py",
   "mimetype": "text/x-python",
   "name": "python",
   "nbconvert_exporter": "python",
   "pygments_lexer": "ipython3",
   "version": "3.7.4"
  }
 },
 "nbformat": 4,
 "nbformat_minor": 2
}
