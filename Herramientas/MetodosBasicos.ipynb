{
 "cells": [
  {
   "cell_type": "markdown",
   "metadata": {},
   "source": [
    "# <font color = 'DodgerBlue'> Metodos basicos para el trabajo en fisica computacional </font>"
   ]
  },
  {
   "cell_type": "markdown",
   "metadata": {},
   "source": [
    "## <font color = #585858> Este programa contiene los siguiente metodos basicos para el analisis fisico:\n",
    "\n",
    "-   Cuadratica (x,a,b,c): dados los parametros retorna una funcion cuadratica\n",
    "-   Nombrar (x_label, y_label, title, dimension, p1, p2, axs): da nombres dados por parametro a una grafica\n",
    "-   ajuCua(x, y): grafica ajuste cuadratico a una grafica\n",
    "-   puntosCriticos(r1, r2, lis): Devuelve una lista con los puntos criticos de un Dataframe\n",
    "\n",
    "</font>"
   ]
  },
  {
   "cell_type": "code",
   "execution_count": 1,
   "metadata": {},
   "outputs": [],
   "source": [
    "from scipy.optimize import curve_fit\n",
    "import numpy as np\n",
    "import matplotlib.pyplot as plt\n",
    "import pandas as pd\n",
    "import sys"
   ]
  },
  {
   "cell_type": "code",
   "execution_count": 5,
   "metadata": {},
   "outputs": [],
   "source": [
    "def Cuadratica(x, a, b, c):\n",
    "   return (a*(x**2))+ b*x + c"
   ]
  },
  {
   "cell_type": "code",
   "execution_count": 6,
   "metadata": {},
   "outputs": [],
   "source": [
    "def Nombrar (x_label, y_label, title, dimension, p1, p2, axs):\n",
    "    \n",
    "    if dimension == 0:\n",
    "        plt.xlabel(x_label)\n",
    "        plt.ylabel(y_label)\n",
    "        plt.title(title)\n",
    "    elif dimension == 1:\n",
    "        \n",
    "        axs[p1].set_xlabel(x_label)\n",
    "        axs[p1].set_ylabel(y_label)\n",
    "        axs[p1].set_title(title)\n",
    "    else:\n",
    "        axs[p1,p2].set_xlabel(x_label)\n",
    "        axs[p1,p2].set_ylabel(y_label)\n",
    "        axs[p1,p2].set_title(title)    "
   ]
  },
  {
   "cell_type": "code",
   "execution_count": 4,
   "metadata": {},
   "outputs": [],
   "source": [
    "def ajuCua(x, y, c, lab):\n",
    "    # Ajuste de los datos\n",
    "    # curve_fit devuelve dos variables, los parámetros del ajuste y la matriz de covarianza\n",
    "    popt, bas = curve_fit(Cuadratica, x, y)\n",
    "\n",
    "    # Ahora creo una curva teórica a partir del modelo ajustado\n",
    "    times = np.arange(x[0], x[-1], 0.0001)\n",
    "    model = Cuadratica(times, *popt)\n",
    "\n",
    "    plt.scatter(x, y)\n",
    "    plt.plot(times, model, '-r', color = c, label = lab)"
   ]
  },
  {
   "cell_type": "code",
   "execution_count": 5,
   "metadata": {},
   "outputs": [],
   "source": [
    "def ajuCuaEcu(x, y):\n",
    "    # Ajuste de los datos\n",
    "    # curve_fit devuelve dos variables, los parámetros del ajuste y la matriz de covarianza\n",
    "    popt, bas = curve_fit(Cuadratica, x, y)\n",
    "\n",
    "    return popt"
   ]
  },
  {
   "cell_type": "code",
   "execution_count": 6,
   "metadata": {},
   "outputs": [],
   "source": [
    "def puntosCriticos(r1, r2, lis):\n",
    "    criticos = []\n",
    "    for var in range (r1, r2):\n",
    "        if (float(lis.iloc[var-1]) < float(lis.iloc[var])) and (float(lis.iloc[var+1]) < float(lis.iloc[var])):\n",
    "            criticos.append(var)\n",
    "\n",
    "    return(criticos)"
   ]
  }
 ],
 "metadata": {
  "kernelspec": {
   "display_name": "Python 3",
   "language": "python",
   "name": "python3"
  },
  "language_info": {
   "codemirror_mode": {
    "name": "ipython",
    "version": 3
   },
   "file_extension": ".py",
   "mimetype": "text/x-python",
   "name": "python",
   "nbconvert_exporter": "python",
   "pygments_lexer": "ipython3",
   "version": "3.7.4"
  }
 },
 "nbformat": 4,
 "nbformat_minor": 2
}
