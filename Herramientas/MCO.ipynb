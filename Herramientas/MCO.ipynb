{
 "cells": [
  {
   "cell_type": "markdown",
   "metadata": {},
   "source": [
    "# <font color = 'DodgerBlue'> Metodo para calcular minimos cuadrados ordinarios </font>"
   ]
  },
  {
   "cell_type": "markdown",
   "metadata": {},
   "source": [
    "## <font color = #585858> Este programa contiene el metodo que calcula el valor de los parametros optimos para reducir al minimo el error cuadratico en un ajuste lineal de n dimensiones</font>"
   ]
  },
  {
   "cell_type": "markdown",
   "metadata": {},
   "source": [
    "_________________"
   ]
  },
  {
   "cell_type": "markdown",
   "metadata": {},
   "source": [
    " <font color ='gray'> se importa numpy para poder trabajar comodamente con matrices para soluciar el problema por el metodo vectorial </font>"
   ]
  },
  {
   "cell_type": "code",
   "execution_count": 1,
   "metadata": {},
   "outputs": [],
   "source": [
    "import numpy as np"
   ]
  },
  {
   "cell_type": "markdown",
   "metadata": {},
   "source": [
    "#  Formula para hallar $\\beta $ que minimiza el error cuadratico medio (MCO)\n",
    "$ \\beta = (X^{T}X)^{-1} X^{T} Y$"
   ]
  },
  {
   "cell_type": "code",
   "execution_count": 2,
   "metadata": {},
   "outputs": [],
   "source": [
    "\"\"\"\" \n",
    "Recibe un array Y correspondiente al resultado que queremos modelar, y una lista con\n",
    "     los arrays representando las variables con las que queremos realizar el ajuste lineal \n",
    "\"\"\"\n",
    "def MinCua(y, xn):\n",
    "    \n",
    "    #transforma el parametro y en un array Y en dado caso de que fuera una lista\n",
    "    Y = np.array(y)\n",
    "    #Crea una columna de unos para representar el termino independiente y corrimiento del ajuste\n",
    "    X_0 = np.ones(len(xn[0]))\n",
    "\n",
    "    #Crea la matriz vacia de parametros XT y le asigna sus valores correspondientes\n",
    "    #Esta representaria la transpuesta de la matriz X por motivos de optimizacion\n",
    "    XT = np.empty( shape=( len(xn)+1, len(X_0) ) )\n",
    "\n",
    "    XT[0] = X_0\n",
    "    XT[1:] = xn\n",
    "    \n",
    "    #Aplica formula para encontrar el vector de parametros que minimiza error cuadratico\n",
    "    B = np.linalg.inv(XT @ XT.T) @ XT @ Y\n",
    "    \n",
    "    return B"
   ]
  }
 ],
 "metadata": {
  "kernelspec": {
   "display_name": "Python 3",
   "language": "python",
   "name": "python3"
  },
  "language_info": {
   "codemirror_mode": {
    "name": "ipython",
    "version": 3
   },
   "file_extension": ".py",
   "mimetype": "text/x-python",
   "name": "python",
   "nbconvert_exporter": "python",
   "pygments_lexer": "ipython3",
   "version": "3.8.3"
  }
 },
 "nbformat": 4,
 "nbformat_minor": 4
}
