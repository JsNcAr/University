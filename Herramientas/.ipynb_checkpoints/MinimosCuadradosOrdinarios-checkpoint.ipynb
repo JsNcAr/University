{
 "cells": [
  {
   "cell_type": "markdown",
   "metadata": {},
   "source": [
    "# <font color = 'DodgerBlue'> Metodo para calcular minimos cuadrados ordinarios </font>"
   ]
  },
  {
   "cell_type": "markdown",
   "metadata": {},
   "source": [
    "## <font color = #585858> Este programa contiene metodos que calculan el valor de los parametros optimos para reducir al minimo el error cuadratico en un ajuste lineal de 2 arrays </font>"
   ]
  },
  {
   "cell_type": "markdown",
   "metadata": {},
   "source": [
    "_________________"
   ]
  },
  {
   "cell_type": "markdown",
   "metadata": {},
   "source": [
    " <font color ='gray'> se importa numpy para poder trabajar comodamente con matrices para soluciar el problema por el metodo vectorial </font>"
   ]
  },
  {
   "cell_type": "code",
   "execution_count": 1,
   "metadata": {},
   "outputs": [],
   "source": [
    "import numpy as np"
   ]
  },
  {
   "cell_type": "markdown",
   "metadata": {},
   "source": [
    "#  Formula para hallar $\\beta $ que minimiza el error cuadratico medio (MCO)\n",
    "$ \\beta = (X^{T}X)^{-1} X^{T} Y$"
   ]
  },
  {
   "cell_type": "code",
   "execution_count": 2,
   "metadata": {},
   "outputs": [],
   "source": [
    "#El metodo recibe 2 arrays y nos da los parametros para la regresion lineal que minimiza el error cuadratico\n",
    "def MinCua(a,b):\n",
    "    \n",
    "    #Se convierten en arrays de numpy para poder usar los metodos de dicha libreria\n",
    "    xt = np.array(a)\n",
    "    Y = np.array(b)\n",
    "\n",
    "    #se añade columna de unos(1) para representar el termino independiente\n",
    "    C1 =  np.ones(len(xt))\n",
    "    \n",
    "    \"\"\"\" \n",
    "    Se transpone X debido a que la matriz de parametros beta resultante, tiene la forma de 1 fila y 2 coumnas\n",
    "    por tanto no esta en la forma vectorial sino en la vectorial transpuesta \n",
    "    \"\"\"\n",
    "    \n",
    "    X = np.array([C1, xt]).T\n",
    "\n",
    "    # @ = Multiplicacion Matricial\n",
    "    # X.T = np.transpose(x) = X transpuesta\n",
    "    B = np.linalg.inv(X.T @ X) @ X.T @ Y\n",
    "\n",
    "    #Esta operacion nos da como resultado una lista con 2 parametros, el primero representa la variable independiente\n",
    "    # y el segundo la pendiente optima para minimizar el error cuadratico, esta formula se demostro en algebra lineal\n",
    "    #b = B[0]\n",
    "    #m = B[1]\n",
    "    return [B[0],B[1],xt, X, Y]"
   ]
  },
  {
   "cell_type": "markdown",
   "metadata": {},
   "source": [
    " <font color ='gray'> Finalmente el metodo nos retorna un array con 5 parametros, el primero representa el intercepto de la recta solucion, el segundo la pendiente, el tercero es el array dado como parametro 'a' (representando la variable independiente) convertido a numpy, el cuarto es este mismo array pero en forma de matriz con una columna de 1's representando el parametro independiente, y el quinto representa el parametro 'b' (variable dependiente) convertido a numpy  </font>"
   ]
  }
 ],
 "metadata": {
  "kernelspec": {
   "display_name": "Python 3",
   "language": "python",
   "name": "python3"
  },
  "language_info": {
   "codemirror_mode": {
    "name": "ipython",
    "version": 3
   },
   "file_extension": ".py",
   "mimetype": "text/x-python",
   "name": "python",
   "nbconvert_exporter": "python",
   "pygments_lexer": "ipython3",
   "version": "3.7.4"
  }
 },
 "nbformat": 4,
 "nbformat_minor": 2
}
