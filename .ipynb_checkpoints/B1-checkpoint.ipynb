{
 "cells": [
  {
   "cell_type": "code",
   "execution_count": 1,
   "metadata": {},
   "outputs": [
    {
     "name": "stdout",
     "output_type": "stream",
     "text": [
      "Populating the interactive namespace from numpy and matplotlib\n"
     ]
    }
   ],
   "source": [
    "%pylab inline\n",
    "import math"
   ]
  },
  {
   "cell_type": "code",
   "execution_count": 2,
   "metadata": {},
   "outputs": [
    {
     "name": "stdout",
     "output_type": "stream",
     "text": [
      "[0.00785398 0.01570796 0.02356194 0.03141593 0.03926991 0.04712389\n",
      " 0.05497787 0.06283185 0.07068583 0.07853982 0.0863938  0.09424778\n",
      " 0.10210176 0.10995574 0.11780972 0.12566371 0.13351769 0.14137167\n",
      " 0.14922565 0.15707963 0.16493361 0.1727876  0.18064158 0.18849556\n",
      " 0.19634954 0.20420352 0.2120575  0.21991149 0.22776547 0.23561945\n",
      " 0.24347343 0.25132741 0.25918139 0.26703538 0.27488936 0.28274334\n",
      " 0.29059732 0.2984513  0.30630528 0.31415927 0.32201325 0.32986723\n",
      " 0.33772121 0.34557519 0.35342917 0.36128316 0.36913714 0.37699112\n",
      " 0.3848451  0.39269908 0.40055306 0.40840704 0.41626103 0.42411501\n",
      " 0.43196899 0.43982297 0.44767695 0.45553093 0.46338492 0.4712389\n",
      " 0.47909288 0.48694686 0.49480084 0.50265482 0.51050881 0.51836279\n",
      " 0.52621677 0.53407075 0.54192473 0.54977871 0.5576327  0.56548668\n",
      " 0.57334066 0.58119464 0.58904862 0.5969026  0.60475659 0.61261057\n",
      " 0.62046455 0.62831853 0.63617251 0.64402649 0.65188048 0.65973446\n",
      " 0.66758844 0.67544242 0.6832964  0.69115038 0.69900437 0.70685835\n",
      " 0.71471233 0.72256631 0.73042029 0.73827427 0.74612826 0.75398224\n",
      " 0.76183622 0.7696902  0.77754418 0.78539816]\n"
     ]
    }
   ],
   "source": [
    "theta_i = np.linspace(0+math.pi/400,math.pi/4,100)\n",
    "theta_t=[]\n",
    "ni=1\n",
    "nt=1.45\n",
    "print(theta_i)"
   ]
  },
  {
   "cell_type": "code",
   "execution_count": 3,
   "metadata": {},
   "outputs": [
    {
     "name": "stdout",
     "output_type": "stream",
     "text": [
      "[0.005416509856936623, 0.010832844500921186, 0.01624882868354443, 0.021664287085476627, 0.027079044280992236, 0.03249292470247636, 0.03790575260490714, 0.0433173520303079, 0.04872754677216341, 0.05413616033979407, 0.059543015922682394, 0.06494793635474606, 0.0703507440785517, 0.07575126110946402, 0.08114930899972472, 0.08654470880245561, 0.09193728103558124, 0.0973268456456652, 0.10271322197165558, 0.10809622870853484, 0.11347568387086872, 0.11885140475625071, 0.12422320790863686, 0.1295909090815673, 0.13495432320127065, 0.14031326432964686, 0.14566754562712633, 0.1510169793154012, 0.15636137664002567, 0.16170054783288357, 0.16703430207452064, 0.1723624474563388, 0.1776847909426515, 0.18300113833259848, 0.18831129422191925, 0.1936150619645842, 0.19891224363428398, 0.20420263998577654, 0.2094860504160932, 0.21476227292560493, 0.22003110407895024, 0.22529233896582704, 0.23054577116165154, 0.23579119268808693, 0.24102839397344672, 0.2462571638129766, 0.2514772893290202, 0.25668855593107526, 0.2618907472757459, 0.2670836452265997, 0.2722670298139366, 0.27744067919447934, 0.2826043696109957, 0.2877578753518621, 0.2929009687105816, 0.29803341994526833, 0.30315499723811246, 0.3082654666548399, 0.31336459210418344, 0.31845213529738103, 0.3235278557077217, 0.3285915105301553, 0.33364285464099025, 0.33868164055769867, 0.343707618398853, 0.3487205358442206, 0.35372013809503927, 0.358706167834505, 0.363678365188499, 0.36863646768658603, 0.373580210223317, 0.37850932501986834, 0.38342354158605746, 0.38832258668277037, 0.3932061842848402, 0.39807405554442354, 0.40292591875491135, 0.4077614893154271, 0.41258047969595607, 0.41738259940315864, 0.4221675549469176, 0.42693504980767755, 0.43168478440462993, 0.4364164560648069, 0.4411297589931428, 0.44582438424357035, 0.4505000196912168, 0.45515635000577015, 0.45979305662608877, 0.4644098177361266, 0.46900630824225453, 0.4735821997520563, 0.47813716055468214, 0.4826708556028457, 0.48718294649655464, 0.4916730914686623, 0.496140945372338, 0.5005861596705515, 0.5050083824276704, 0.5094072583032732]\n"
     ]
    }
   ],
   "source": [
    "def snell():\n",
    "    for j in range (len(theta_i)):\n",
    "        a = math.asin((ni*math.sin(theta_i[j]))/nt)\n",
    "        theta_t.append(a)\n",
    "        \n",
    "snell()\n",
    "print(theta_t)"
   ]
  },
  {
   "cell_type": "code",
   "execution_count": 4,
   "metadata": {},
   "outputs": [],
   "source": [
    "def rPerpedicular():\n",
    "    for j in range (len(theta_i)-1):\n",
    "        rPer=[]\n",
    "        rPer.append(-math.sin(theta_i[j]-theta_t[j])/math.sin(theta_i[j]+theta_t[j]))\n",
    "    return rPer\n",
    "\n",
    "def rParalelo():\n",
    "     for j in range (len(theta_i)-1):\n",
    "        return math.tan(theta_i[j]-theta_t[j])/math.tan(theta_i[j]+theta_t[j])\n",
    "\n",
    "def tPerpendicular():\n",
    "    for j in range (len(theta_i)-1):\n",
    "        return 2*math.sin(theta_i[j])*math.cos(theta_t[j])/math.sin(theta_i[j]+theta_t[j])\n",
    "    \n",
    "def tParalelo():\n",
    "    for j in range (len(theta_i)-1):\n",
    "        return 2*math.sin(theta_i[j])*math.cos(theta_t[j])/math.sin(theta_i[j]+theta_t[j])*math.cos(theta_i[j]-theta_t[j])     "
   ]
  },
  {
   "cell_type": "code",
   "execution_count": 5,
   "metadata": {},
   "outputs": [
    {
     "ename": "ValueError",
     "evalue": "x and y must have same first dimension, but have shapes (100,) and (1,)",
     "output_type": "error",
     "traceback": [
      "\u001b[0;31m---------------------------------------------------------------------------\u001b[0m",
      "\u001b[0;31mValueError\u001b[0m                                Traceback (most recent call last)",
      "\u001b[0;32m<ipython-input-5-ff79c8f4c83b>\u001b[0m in \u001b[0;36m<module>\u001b[0;34m\u001b[0m\n\u001b[0;32m----> 1\u001b[0;31m \u001b[0mplt\u001b[0m\u001b[0;34m.\u001b[0m\u001b[0mplot\u001b[0m\u001b[0;34m(\u001b[0m\u001b[0mtheta_i\u001b[0m\u001b[0;34m,\u001b[0m\u001b[0mrPerpedicular\u001b[0m\u001b[0;34m(\u001b[0m\u001b[0;34m)\u001b[0m\u001b[0;34m)\u001b[0m\u001b[0;34m\u001b[0m\u001b[0;34m\u001b[0m\u001b[0m\n\u001b[0m\u001b[1;32m      2\u001b[0m \u001b[0mplt\u001b[0m\u001b[0;34m.\u001b[0m\u001b[0mshow\u001b[0m\u001b[0;34m(\u001b[0m\u001b[0;34m)\u001b[0m\u001b[0;34m\u001b[0m\u001b[0;34m\u001b[0m\u001b[0m\n",
      "\u001b[0;32m~/anaconda3/lib/python3.7/site-packages/matplotlib/pyplot.py\u001b[0m in \u001b[0;36mplot\u001b[0;34m(scalex, scaley, data, *args, **kwargs)\u001b[0m\n\u001b[1;32m   2793\u001b[0m     return gca().plot(\n\u001b[1;32m   2794\u001b[0m         *args, scalex=scalex, scaley=scaley, **({\"data\": data} if data\n\u001b[0;32m-> 2795\u001b[0;31m         is not None else {}), **kwargs)\n\u001b[0m\u001b[1;32m   2796\u001b[0m \u001b[0;34m\u001b[0m\u001b[0m\n\u001b[1;32m   2797\u001b[0m \u001b[0;34m\u001b[0m\u001b[0m\n",
      "\u001b[0;32m~/anaconda3/lib/python3.7/site-packages/matplotlib/axes/_axes.py\u001b[0m in \u001b[0;36mplot\u001b[0;34m(self, scalex, scaley, data, *args, **kwargs)\u001b[0m\n\u001b[1;32m   1664\u001b[0m         \"\"\"\n\u001b[1;32m   1665\u001b[0m         \u001b[0mkwargs\u001b[0m \u001b[0;34m=\u001b[0m \u001b[0mcbook\u001b[0m\u001b[0;34m.\u001b[0m\u001b[0mnormalize_kwargs\u001b[0m\u001b[0;34m(\u001b[0m\u001b[0mkwargs\u001b[0m\u001b[0;34m,\u001b[0m \u001b[0mmlines\u001b[0m\u001b[0;34m.\u001b[0m\u001b[0mLine2D\u001b[0m\u001b[0;34m.\u001b[0m\u001b[0m_alias_map\u001b[0m\u001b[0;34m)\u001b[0m\u001b[0;34m\u001b[0m\u001b[0;34m\u001b[0m\u001b[0m\n\u001b[0;32m-> 1666\u001b[0;31m         \u001b[0mlines\u001b[0m \u001b[0;34m=\u001b[0m \u001b[0;34m[\u001b[0m\u001b[0;34m*\u001b[0m\u001b[0mself\u001b[0m\u001b[0;34m.\u001b[0m\u001b[0m_get_lines\u001b[0m\u001b[0;34m(\u001b[0m\u001b[0;34m*\u001b[0m\u001b[0margs\u001b[0m\u001b[0;34m,\u001b[0m \u001b[0mdata\u001b[0m\u001b[0;34m=\u001b[0m\u001b[0mdata\u001b[0m\u001b[0;34m,\u001b[0m \u001b[0;34m**\u001b[0m\u001b[0mkwargs\u001b[0m\u001b[0;34m)\u001b[0m\u001b[0;34m]\u001b[0m\u001b[0;34m\u001b[0m\u001b[0;34m\u001b[0m\u001b[0m\n\u001b[0m\u001b[1;32m   1667\u001b[0m         \u001b[0;32mfor\u001b[0m \u001b[0mline\u001b[0m \u001b[0;32min\u001b[0m \u001b[0mlines\u001b[0m\u001b[0;34m:\u001b[0m\u001b[0;34m\u001b[0m\u001b[0;34m\u001b[0m\u001b[0m\n\u001b[1;32m   1668\u001b[0m             \u001b[0mself\u001b[0m\u001b[0;34m.\u001b[0m\u001b[0madd_line\u001b[0m\u001b[0;34m(\u001b[0m\u001b[0mline\u001b[0m\u001b[0;34m)\u001b[0m\u001b[0;34m\u001b[0m\u001b[0;34m\u001b[0m\u001b[0m\n",
      "\u001b[0;32m~/anaconda3/lib/python3.7/site-packages/matplotlib/axes/_base.py\u001b[0m in \u001b[0;36m__call__\u001b[0;34m(self, *args, **kwargs)\u001b[0m\n\u001b[1;32m    223\u001b[0m                 \u001b[0mthis\u001b[0m \u001b[0;34m+=\u001b[0m \u001b[0margs\u001b[0m\u001b[0;34m[\u001b[0m\u001b[0;36m0\u001b[0m\u001b[0;34m]\u001b[0m\u001b[0;34m,\u001b[0m\u001b[0;34m\u001b[0m\u001b[0;34m\u001b[0m\u001b[0m\n\u001b[1;32m    224\u001b[0m                 \u001b[0margs\u001b[0m \u001b[0;34m=\u001b[0m \u001b[0margs\u001b[0m\u001b[0;34m[\u001b[0m\u001b[0;36m1\u001b[0m\u001b[0;34m:\u001b[0m\u001b[0;34m]\u001b[0m\u001b[0;34m\u001b[0m\u001b[0;34m\u001b[0m\u001b[0m\n\u001b[0;32m--> 225\u001b[0;31m             \u001b[0;32myield\u001b[0m \u001b[0;32mfrom\u001b[0m \u001b[0mself\u001b[0m\u001b[0;34m.\u001b[0m\u001b[0m_plot_args\u001b[0m\u001b[0;34m(\u001b[0m\u001b[0mthis\u001b[0m\u001b[0;34m,\u001b[0m \u001b[0mkwargs\u001b[0m\u001b[0;34m)\u001b[0m\u001b[0;34m\u001b[0m\u001b[0;34m\u001b[0m\u001b[0m\n\u001b[0m\u001b[1;32m    226\u001b[0m \u001b[0;34m\u001b[0m\u001b[0m\n\u001b[1;32m    227\u001b[0m     \u001b[0;32mdef\u001b[0m \u001b[0mget_next_color\u001b[0m\u001b[0;34m(\u001b[0m\u001b[0mself\u001b[0m\u001b[0;34m)\u001b[0m\u001b[0;34m:\u001b[0m\u001b[0;34m\u001b[0m\u001b[0;34m\u001b[0m\u001b[0m\n",
      "\u001b[0;32m~/anaconda3/lib/python3.7/site-packages/matplotlib/axes/_base.py\u001b[0m in \u001b[0;36m_plot_args\u001b[0;34m(self, tup, kwargs)\u001b[0m\n\u001b[1;32m    389\u001b[0m             \u001b[0mx\u001b[0m\u001b[0;34m,\u001b[0m \u001b[0my\u001b[0m \u001b[0;34m=\u001b[0m \u001b[0mindex_of\u001b[0m\u001b[0;34m(\u001b[0m\u001b[0mtup\u001b[0m\u001b[0;34m[\u001b[0m\u001b[0;34m-\u001b[0m\u001b[0;36m1\u001b[0m\u001b[0;34m]\u001b[0m\u001b[0;34m)\u001b[0m\u001b[0;34m\u001b[0m\u001b[0;34m\u001b[0m\u001b[0m\n\u001b[1;32m    390\u001b[0m \u001b[0;34m\u001b[0m\u001b[0m\n\u001b[0;32m--> 391\u001b[0;31m         \u001b[0mx\u001b[0m\u001b[0;34m,\u001b[0m \u001b[0my\u001b[0m \u001b[0;34m=\u001b[0m \u001b[0mself\u001b[0m\u001b[0;34m.\u001b[0m\u001b[0m_xy_from_xy\u001b[0m\u001b[0;34m(\u001b[0m\u001b[0mx\u001b[0m\u001b[0;34m,\u001b[0m \u001b[0my\u001b[0m\u001b[0;34m)\u001b[0m\u001b[0;34m\u001b[0m\u001b[0;34m\u001b[0m\u001b[0m\n\u001b[0m\u001b[1;32m    392\u001b[0m \u001b[0;34m\u001b[0m\u001b[0m\n\u001b[1;32m    393\u001b[0m         \u001b[0;32mif\u001b[0m \u001b[0mself\u001b[0m\u001b[0;34m.\u001b[0m\u001b[0mcommand\u001b[0m \u001b[0;34m==\u001b[0m \u001b[0;34m'plot'\u001b[0m\u001b[0;34m:\u001b[0m\u001b[0;34m\u001b[0m\u001b[0;34m\u001b[0m\u001b[0m\n",
      "\u001b[0;32m~/anaconda3/lib/python3.7/site-packages/matplotlib/axes/_base.py\u001b[0m in \u001b[0;36m_xy_from_xy\u001b[0;34m(self, x, y)\u001b[0m\n\u001b[1;32m    268\u001b[0m         \u001b[0;32mif\u001b[0m \u001b[0mx\u001b[0m\u001b[0;34m.\u001b[0m\u001b[0mshape\u001b[0m\u001b[0;34m[\u001b[0m\u001b[0;36m0\u001b[0m\u001b[0;34m]\u001b[0m \u001b[0;34m!=\u001b[0m \u001b[0my\u001b[0m\u001b[0;34m.\u001b[0m\u001b[0mshape\u001b[0m\u001b[0;34m[\u001b[0m\u001b[0;36m0\u001b[0m\u001b[0;34m]\u001b[0m\u001b[0;34m:\u001b[0m\u001b[0;34m\u001b[0m\u001b[0;34m\u001b[0m\u001b[0m\n\u001b[1;32m    269\u001b[0m             raise ValueError(\"x and y must have same first dimension, but \"\n\u001b[0;32m--> 270\u001b[0;31m                              \"have shapes {} and {}\".format(x.shape, y.shape))\n\u001b[0m\u001b[1;32m    271\u001b[0m         \u001b[0;32mif\u001b[0m \u001b[0mx\u001b[0m\u001b[0;34m.\u001b[0m\u001b[0mndim\u001b[0m \u001b[0;34m>\u001b[0m \u001b[0;36m2\u001b[0m \u001b[0;32mor\u001b[0m \u001b[0my\u001b[0m\u001b[0;34m.\u001b[0m\u001b[0mndim\u001b[0m \u001b[0;34m>\u001b[0m \u001b[0;36m2\u001b[0m\u001b[0;34m:\u001b[0m\u001b[0;34m\u001b[0m\u001b[0;34m\u001b[0m\u001b[0m\n\u001b[1;32m    272\u001b[0m             raise ValueError(\"x and y can be no greater than 2-D, but have \"\n",
      "\u001b[0;31mValueError\u001b[0m: x and y must have same first dimension, but have shapes (100,) and (1,)"
     ]
    },
    {
     "data": {
      "image/png": "[encoded data removed]",
      "text/plain": [
       "<Figure size 432x288 with 1 Axes>"
      ]
     },
     "metadata": {
      "needs_background": "light"
     },
     "output_type": "display_data"
    }
   ],
   "source": [
    "plt.plot(theta_i,rPerpedicular())\n",
    "plt.show()"
   ]
  },
  {
   "cell_type": "code",
   "execution_count": null,
   "metadata": {},
   "outputs": [],
   "source": []
  },
  {
   "cell_type": "code",
   "execution_count": null,
   "metadata": {},
   "outputs": [],
   "source": []
  }
 ],
 "metadata": {
  "kernelspec": {
   "display_name": "Python 3",
   "language": "python",
   "name": "python3"
  },
  "language_info": {
   "codemirror_mode": {
    "name": "ipython",
    "version": 3
   },
   "file_extension": ".py",
   "mimetype": "text/x-python",
   "name": "python",
   "nbconvert_exporter": "python",
   "pygments_lexer": "ipython3",
   "version": "3.7.4"
  }
 },
 "nbformat": 4,
 "nbformat_minor": 4
}
